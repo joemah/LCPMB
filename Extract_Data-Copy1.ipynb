{
 "cells": [
  {
   "cell_type": "code",
   "execution_count": 55,
   "metadata": {},
   "outputs": [],
   "source": [
    "import ROOT\n",
    "import numpy as np\n",
    "import pandas as pd\n",
    "import os"
   ]
  },
  {
   "cell_type": "code",
   "execution_count": 56,
   "metadata": {},
   "outputs": [],
   "source": [
    "feature_list = [\"label\",\"eventWeightLumi\",\"PROCESS\",\"file_root\",\"Tau_pt\",\"Tau_phi\",\"Tau_mass\",\"Tau_eta\",\"Tau_charge\",\"Tau_dz\",\n",
    "               \"Tau_dxy\",\"nTau\",\"nPhoton\",\"Photon_pt\",\"Photon_phi\",\"Photon_mass\",\"Photon_eta\",\"Photon_charge\",\n",
    "               \"nMuon\",\"Muon_pt\",\"Muon_phi\",\"Muon_mass\",\"Muon_eta\",\"Muon_dz\",\"Muon_dxy\",\"Muon_charge\",\n",
    "               \"nElectron\",\"Electron_pt\",\"Electron_phi\",\"Electron_mass\",\"Electron_eta\",\"Electron_dz\",\"Electron_dxy\",\"Electron_charge\",\n",
    "                \"CaloMET_pt\"]"
   ]
  },
  {
   "cell_type": "code",
   "execution_count": 57,
   "metadata": {},
   "outputs": [],
   "source": [
    "Signal = [\"TT_FCNC-aTtoHJ_Tleptonic_HToWWZZtautau_eta_hct-MadGraph5-pythia8_RunIISummer16\",\n",
    "\"TT_FCNC-aTtoHJ_Tleptonic_HToWWZZtautau_eta_hct_TuneCP5-MadGraph5-pythia8_RunIIAutumn18\",\n",
    "\"TT_FCNC-aTtoHJ_Tleptonic_HToWWZZtautau_eta_hct_TuneCP5-MadGraph5-pythia8_RunIIFall17\",\n",
    "\"TT_FCNC-aTtoHJ_Tleptonic_HToWWZZtautau_eta_hut-MadGraph5-pythia8_RunIISummer16\",\n",
    "\"TT_FCNC-aTtoHJ_Tleptonic_HToWWZZtautau_eta_hut_TuneCP5-MadGraph5-pythia8_RunIIAutumn18\",\n",
    "\"TT_FCNC-aTtoHJ_Tleptonic_HToWWZZtautau_eta_hut_TuneCP5-MadGraph5-pythia8_RunIIFall17\"]"
   ]
  },
  {
   "cell_type": "code",
   "execution_count": 82,
   "metadata": {},
   "outputs": [],
   "source": [
    "BackDir = [\"TTTo2L2Nu\", \"TTToSemiLeptonic\", \"TTToHadronic\", \"ST_\", \"TTWJets\",\n",
    "\"TTZToLL\", \"WpWpJJ_\", \"WmWmJJ_\", \"WZTo3LNu\", \"WZTo2L2Q_\"]"
   ]
  },
  {
   "cell_type": "code",
   "execution_count": 59,
   "metadata": {},
   "outputs": [],
   "source": [
    "def get_dataframe(fname):\n",
    "    f = ROOT.TFile.Open(fname)\n",
    "    tree = f.Events\n",
    "    col_names = [leaf.GetName() for leaf in tree.GetListOfLeaves()]\n",
    "    data = []\n",
    "    \n",
    "    for event in tree:\n",
    "        row = []\n",
    "        for n in col_names:\n",
    "            row.append(event.GetLeaf(n).GetValue())\n",
    "        data.append(row)  \n",
    "        \n",
    "    return pd.DataFrame(data, columns = col_names,)"
   ]
  },
  {
   "cell_type": "code",
   "execution_count": 60,
   "metadata": {},
   "outputs": [],
   "source": [
    "def trim_dataframe(df, feature_list):\n",
    "    for col in df:\n",
    "        if col not in set(feature_list):\n",
    "            df = df.drop(columns = col)\n",
    "    return df        \n",
    "    "
   ]
  },
  {
   "cell_type": "code",
   "execution_count": 61,
   "metadata": {},
   "outputs": [],
   "source": [
    "def read_process(pname,verbosity = False):\n",
    "    dfs = []\n",
    "    for root, dirs, filelist in os.walk(pname):\n",
    "        if verbosity == True: print(\"--->Loading \", len(filelist),\" root files.\")\n",
    "        for j,file in enumerate(filelist):\n",
    "            if verbosity == True: print(\"--->Reading root file: \", file)\n",
    "            dfs.append( get_dataframe(pname+\"/\"+file) )\n",
    "            dfs[j][\"file_root\"] = file\n",
    "            \n",
    "    if verbosity == True: print(\"--->Concatenating dataframe\")        \n",
    "    df = pd.concat(dfs)    \n",
    "    df[\"PROCESS\"] = pname\n",
    "    return df"
   ]
  },
  {
   "cell_type": "code",
   "execution_count": 62,
   "metadata": {},
   "outputs": [],
   "source": [
    "def label_dataframe(df,label):\n",
    "    df.insert(loc = 0, column = \"label\", value = label)\n",
    "    return df"
   ]
  },
  {
   "cell_type": "code",
   "execution_count": 67,
   "metadata": {},
   "outputs": [],
   "source": [
    "def pickle_batch(list_, jar_name):\n",
    "    df_list = []\n",
    "    for process in list_:\n",
    "        #Load an entire process folder\n",
    "        print(\">Reading process \", process)\n",
    "        df = read_process(\"ntuple/\"+ process, verbosity = True)\n",
    "        \n",
    "        #Select important features to keep\n",
    "        df = trim_dataframe(df, feature_list)\n",
    "        \n",
    "        if process in set(Signal):\n",
    "            label = 1 #Actual signal\n",
    "        else:    \n",
    "            label = 0 #Background\n",
    "        df_list.append( label_dataframe(df,label))    \n",
    "    df = pd.concat( df_list )\n",
    "    df.to_pickle(jar_name)\n",
    "    return df\n",
    "        "
   ]
  },
  {
   "cell_type": "code",
   "execution_count": 70,
   "metadata": {},
   "outputs": [
    {
     "name": "stdout",
     "output_type": "stream",
     "text": [
      ">Reading process  TT_FCNC-aTtoHJ_Tleptonic_HToWWZZtautau_eta_hct-MadGraph5-pythia8_RunIISummer16\n",
      "--->Loading  3  root files.\n",
      "--->Reading root file:  D717F12F-B185-3348-9E3E-0204E2751363_Skim.root\n",
      "--->Reading root file:  DE799445-30AD-E040-B4E2-3C8F90216D52_Skim.root\n",
      "--->Reading root file:  6319226B-F5F4-1B45-950E-36BE5993AA49_Skim.root\n",
      "--->Concatenating dataframe\n",
      ">Reading process  TT_FCNC-aTtoHJ_Tleptonic_HToWWZZtautau_eta_hct_TuneCP5-MadGraph5-pythia8_RunIIAutumn18\n",
      "--->Loading  18  root files.\n",
      "--->Reading root file:  3C10F556-3AF7-A34F-8C4F-59D2C4AAA91D_Skim.root\n",
      "--->Reading root file:  763253A5-C104-5C49-9170-67E33BED184B_Skim.root\n",
      "--->Reading root file:  CA746C0B-DDDB-B742-B319-8D1786DFF0D7_Skim.root\n",
      "--->Reading root file:  20CBA33E-EFD4-C04E-8607-D9C619D13A73_Skim.root\n",
      "--->Reading root file:  C91D9FD7-C174-4B47-B8DD-1FBEB591538B_Skim.root\n",
      "--->Reading root file:  297EA7BC-735B-A748-A2B5-62DF2DED29F1_Skim.root\n",
      "--->Reading root file:  D09EEE5C-81D3-AA4B-8699-A3AB2E8174A1_Skim.root\n",
      "--->Reading root file:  5BEF19C0-5B0A-374C-BDD1-50787D51B640_Skim.root\n",
      "--->Reading root file:  C6FA504E-CF85-DB4E-9766-51F839EC7234_Skim.root\n",
      "--->Reading root file:  F04D0C06-16A8-6C41-9212-718AC05E51F5_Skim.root\n",
      "--->Reading root file:  DD1B3C84-F1CD-2B4D-883D-048B4B4DE118_Skim.root\n",
      "--->Reading root file:  62434923-F330-4747-B69D-7DB798729A2A_Skim.root\n",
      "--->Reading root file:  01CCCFF0-DAD1-BC40-936E-86309FDAA709_Skim.root\n",
      "--->Reading root file:  AA8EB318-9436-0642-9B0E-00BDBFEAE9F9_Skim.root\n",
      "--->Reading root file:  0F1D0497-9830-F742-B2A2-FAD7C4B01EBF_Skim.root\n",
      "--->Reading root file:  F1C0A9F3-DCD0-E548-A6B4-417E8B736462_Skim.root\n",
      "--->Reading root file:  D577182F-E4A3-074C-BBC2-895F83F29FD5_Skim.root\n",
      "--->Reading root file:  9EC83CF2-D7AB-BC43-B762-B4FA57211208_Skim.root\n",
      "--->Concatenating dataframe\n",
      ">Reading process  TT_FCNC-aTtoHJ_Tleptonic_HToWWZZtautau_eta_hct_TuneCP5-MadGraph5-pythia8_RunIIFall17\n",
      "--->Loading  24  root files.\n",
      "--->Reading root file:  486C08D5-1D27-7E45-BEBE-D9F0D21DB9A1_Skim.root\n",
      "--->Reading root file:  F5014432-D64F-FB4D-ADA7-029171BC68DF_Skim.root\n",
      "--->Reading root file:  F1977283-ED1E-3D46-955E-136B729D27B3_Skim.root\n",
      "--->Reading root file:  FEAADE63-CCB5-B04A-93AC-11C1AAF0F9F1_Skim.root\n",
      "--->Reading root file:  903EEDCA-58EB-FB4B-A261-31FC0BDF3202_Skim.root\n",
      "--->Reading root file:  3372B867-C687-DB41-931D-CCD5D22DEBBB_Skim.root\n",
      "--->Reading root file:  297092C3-1F43-D749-BC0D-068F629B7E6F_Skim.root\n",
      "--->Reading root file:  C38AF35B-2166-C548-B0F7-EF2E0905C61C_Skim.root\n",
      "--->Reading root file:  FCC679FF-0EE9-6B4E-8B62-7DB8BA7ADE15_Skim.root\n",
      "--->Reading root file:  17420AEE-DA6A-D24B-91B7-B46F3B9E0D5C_Skim.root\n",
      "--->Reading root file:  40F163C6-71F5-5E4C-A911-F0C7B19B29FD_Skim.root\n",
      "--->Reading root file:  7A6F480C-348D-4E4F-BD38-A87017389102_Skim.root\n",
      "--->Reading root file:  A3C3E6F0-51FE-2042-A3AC-2BFF37CA3EAF_Skim.root\n",
      "--->Reading root file:  A22E738F-4C99-8C45-9CA5-5791826C420D_Skim.root\n",
      "--->Reading root file:  6698F62D-8CDB-6A4D-9445-480C69D358AF_Skim.root\n",
      "--->Reading root file:  BD6BFA00-1F1C-F44C-BBF4-A6FCF182703C_Skim.root\n",
      "--->Reading root file:  96505C62-69DE-9148-AF87-9DAD3E14C31C_Skim.root\n",
      "--->Reading root file:  8AF23BAF-D7FF-D545-8352-EB88DA3BAF2D_Skim.root\n",
      "--->Reading root file:  FD151043-BB16-8749-87DC-599E8A964507_Skim.root\n",
      "--->Reading root file:  31BEB04A-A8AE-0F47-8A14-58820BFA8B26_Skim.root\n",
      "--->Reading root file:  DED333C8-567A-F341-9AE9-0DBD99032E98_Skim.root\n",
      "--->Reading root file:  D11EBE3D-A9F6-D546-AFC3-E9CCD95A3407_Skim.root\n",
      "--->Reading root file:  AFAEA34B-EDDD-FB44-BEAE-3A63BBE4B51A_Skim.root\n",
      "--->Reading root file:  DAF3C4C5-E8F3-EA45-881C-ED349D607F02_Skim.root\n",
      "--->Concatenating dataframe\n",
      ">Reading process  TT_FCNC-aTtoHJ_Tleptonic_HToWWZZtautau_eta_hut-MadGraph5-pythia8_RunIISummer16\n",
      "--->Loading  2  root files.\n",
      "--->Reading root file:  2AC0E43E-6026-3E46-9930-497E1DCAFDD6_Skim.root\n",
      "--->Reading root file:  1704C42B-DCE4-1448-AAB0-C8764EAD2D99_Skim.root\n",
      "--->Concatenating dataframe\n",
      ">Reading process  TT_FCNC-aTtoHJ_Tleptonic_HToWWZZtautau_eta_hut_TuneCP5-MadGraph5-pythia8_RunIIAutumn18\n",
      "--->Loading  10  root files.\n",
      "--->Reading root file:  CD738AC7-20F2-0F42-965C-95721F9A7A48_Skim.root\n",
      "--->Reading root file:  0E613BE6-B745-E84D-B7BF-967254989360_Skim.root\n",
      "--->Reading root file:  64141C27-0649-D342-A0C1-0ED79BC7959F_Skim.root\n",
      "--->Reading root file:  BE83048A-EBA4-524C-ABE5-1F2E91A5B892_Skim.root\n",
      "--->Reading root file:  4D567138-CC6D-B745-9414-C70FF1DFF079_Skim.root\n",
      "--->Reading root file:  0B5B6E3D-2939-104B-92DA-1B6E6807337A_Skim.root\n",
      "--->Reading root file:  12F67BB9-A29B-8C43-BE6B-91FEBB577C40_Skim.root\n",
      "--->Reading root file:  FE546101-8DE5-1A4C-AD0C-50382902805B_Skim.root\n",
      "--->Reading root file:  DD4012E0-A6D1-B94C-831C-58EBC82A4029_Skim.root\n",
      "--->Reading root file:  E234D3E3-53C7-6B48-9239-7F0264BB6326_Skim.root\n",
      "--->Concatenating dataframe\n",
      ">Reading process  TT_FCNC-aTtoHJ_Tleptonic_HToWWZZtautau_eta_hut_TuneCP5-MadGraph5-pythia8_RunIIFall17\n",
      "--->Loading  24  root files.\n",
      "--->Reading root file:  6AB6BFD2-0441-3945-A94F-15A241E06C7D_Skim.root\n",
      "--->Reading root file:  9311B078-9164-314A-BE4A-B916B3AACC78_Skim.root\n",
      "--->Reading root file:  C776ED31-0C98-8748-ADDD-DE8F5DE67A13_Skim.root\n",
      "--->Reading root file:  AD4C4236-6F09-7147-A3FE-AB8B875D77F0_Skim.root\n",
      "--->Reading root file:  E74A4B51-A9FF-4948-A484-27D9545B9435_Skim.root\n",
      "--->Reading root file:  993CD13F-292F-D547-AD5E-1B77B7441986_Skim.root\n",
      "--->Reading root file:  31F9AEE8-B5D8-3B4E-8554-957BD690C01F_Skim.root\n",
      "--->Reading root file:  E1769854-B99E-B44E-B14E-D67E480233B5_Skim.root\n",
      "--->Reading root file:  479E45A2-B7BF-E540-9975-8F29AFD8CF1E_Skim.root\n",
      "--->Reading root file:  50AFF2D0-8316-054B-BFCC-561690E1112C_Skim.root\n",
      "--->Reading root file:  D7B1BF40-47C2-E442-96DB-96C2B101B80C_Skim.root\n",
      "--->Reading root file:  CD0953FE-9987-7041-BD0F-8F994CB93975_Skim.root\n",
      "--->Reading root file:  A725A3CE-6635-3348-AE66-379BEFE2CDFF_Skim.root\n",
      "--->Reading root file:  AEE3C1F2-56B1-AE49-A470-D51AA4D45FB1_Skim.root\n",
      "--->Reading root file:  6A2C74E4-D793-6A4F-9B23-045382CB18DE_Skim.root\n",
      "--->Reading root file:  FD5AA662-FCE5-A848-8C8E-D016E622F338_Skim.root\n",
      "--->Reading root file:  6FC87960-3990-8540-B16B-846B1D49B2BA_Skim.root\n",
      "--->Reading root file:  195C2659-D5ED-D44A-B682-86ECF23F3D94_Skim.root\n",
      "--->Reading root file:  F32EFB2C-7F6A-2D43-A725-0737123ADC14_Skim.root\n",
      "--->Reading root file:  908DA113-415E-BB42-B069-AA04D5117182_Skim.root\n",
      "--->Reading root file:  15A77DF0-A66A-4D44-93D9-E7C1DE4ECCA2_Skim.root\n",
      "--->Reading root file:  41EE683B-79C0-FE47-B5A7-46556FA406B7_Skim.root\n",
      "--->Reading root file:  E6F6BBCC-5C1E-DB46-BF45-16AC98C44252_Skim.root\n",
      "--->Reading root file:  DBCD3319-98A0-0543-AC2F-627B6DA85023_Skim.root\n",
      "--->Concatenating dataframe\n"
     ]
    }
   ],
   "source": [
    "df = pickle_batch(Signal, \"Signal.pkle\")"
   ]
  },
  {
   "cell_type": "code",
   "execution_count": null,
   "metadata": {},
   "outputs": [
    {
     "name": "stdout",
     "output_type": "stream",
     "text": [
      ">>>Loading  3  folders\n",
      ">Reading process  TTToSemiLeptonic_TuneCP5_13TeV-powheg-pythia8_RunIIAutumn18\n",
      "--->Loading  192  root files.\n",
      "--->Reading root file:  B7B7DF12-53D0-A34A-B23C-445BFE4908BF_Skim.root\n",
      "--->Reading root file:  55232831-1123-D743-83DC-D634F7B6FE9A_Skim.root\n"
     ]
    }
   ],
   "source": [
    "for nbatch, root in enumerate(BackDir[1:]):\n",
    "    flist = []\n",
    "    for folder in os.listdir(\"ntuple/\"):\n",
    "        if folder.startswith(root):\n",
    "            flist.append(folder)\n",
    "            \n",
    "    print(\">>>Loading \", len(flist), \" folders\")    \n",
    "    name = \"BGround\"+str(nbatch+1)+\".pkle\"\n",
    "    pickle_batch(flist, name)"
   ]
  },
  {
   "cell_type": "code",
   "execution_count": null,
   "metadata": {},
   "outputs": [],
   "source": []
  },
  {
   "cell_type": "code",
   "execution_count": null,
   "metadata": {},
   "outputs": [],
   "source": []
  },
  {
   "cell_type": "code",
   "execution_count": 16,
   "metadata": {},
   "outputs": [
    {
     "name": "stdout",
     "output_type": "stream",
     "text": [
      "Loading  TTToSemiLeptonic_TuneCP5_13TeV-powheg-pythia8_RunIIAutumn18 ..\n",
      "loading file  B7B7DF12-53D0-A34A-B23C-445BFE4908BF_Skim.root\n",
      "loading file  55232831-1123-D743-83DC-D634F7B6FE9A_Skim.root\n",
      "loading file  B9B5E1A9-9AA2-304C-BE6B-DC901DC512B1_Skim.root\n",
      "loading file  AC522E75-80D3-CB4F-992E-0A9A0D862BAA_Skim.root\n",
      "loading file  8C813243-1DAE-6142-96B9-825B583BA0E6_Skim.root\n",
      "loading file  E7C19C16-E48F-8448-9733-5AF7064E3045_Skim.root\n"
     ]
    }
   ],
   "source": [
    "root = \"TTToSemiLeptonic\"\n",
    "i = -1\n",
    "dataf = []\n",
    "for dire in os.listdir(\"ntuple\"):\n",
    "       \n",
    "        if dire.startswith(root):\n",
    "            print(\"Loading \",dire,\"..\")\n",
    "            s = dire\n",
    "            i+=1\n",
    "            \n",
    "            this = []\n",
    "            for root, dirs, filelist in os.walk(\"ntuple/\"+s):\n",
    "                for j,file in enumerate(filelist):\n",
    "                    if j > 5: break   \n",
    "                    print(\"loading file \",file)\n",
    "                    this.append(get_dataframe(\"ntuple/\"+s+\"/\"+file))\n",
    "                    this[j][\"file_root\"] = file\n",
    "            dataf.append(pd.concat(this))\n",
    "            \n",
    "            dataf[i][\"PROCESS\"] = s\n",
    "            if i > 10: break\n",
    "            break"
   ]
  },
  {
   "cell_type": "code",
   "execution_count": null,
   "metadata": {},
   "outputs": [],
   "source": []
  }
 ],
 "metadata": {
  "kernelspec": {
   "display_name": "Python 3",
   "language": "python",
   "name": "python3"
  },
  "language_info": {
   "codemirror_mode": {
    "name": "ipython",
    "version": 3
   },
   "file_extension": ".py",
   "mimetype": "text/x-python",
   "name": "python",
   "nbconvert_exporter": "python",
   "pygments_lexer": "ipython3",
   "version": "3.7.7"
  }
 },
 "nbformat": 4,
 "nbformat_minor": 4
}
